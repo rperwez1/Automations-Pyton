{
 "cells": [
  {
   "cell_type": "code",
   "execution_count": 1,
   "id": "9650a28e-e6be-45e4-8ab8-f06c1fddfa71",
   "metadata": {},
   "outputs": [],
   "source": [
    "import requests\n",
    "from bs4 import BeautifulSoup\n",
    "import csv\n",
    "from datetime import datetime"
   ]
  },
  {
   "cell_type": "code",
   "execution_count": 67,
   "id": "41736ed0-f183-477b-8534-60b9863818c1",
   "metadata": {},
   "outputs": [],
   "source": [
    "def scrape():\n",
    "    url = \"https://www.stonybrook.edu/sb/bulletin/current/courses/com/#100\"\n",
    "    try: \n",
    "        response = requests.get(url)\n",
    "        response.raise_for_status() #raises error for bad responses\n",
    "        print(f\"Status code: {response.status_code}\")\n",
    "        print(f\"Content type: {response.headers.get('Content-Type')}\")\n",
    "        \n",
    "        soup = BeautifulSoup(response.content, 'html.parser')\n",
    "    \n",
    "        courses = []\n",
    "        \n",
    "        for course_div in soup.find_all('div', class_='course'):\n",
    "            course_code = course_div.find('h3').text.strip()\n",
    "            course_title = course_div.find('h3').text.split(':')[1].strip() if ':' in course_div.find('h3').text else ''\n",
    "            course_description = course_div.find('p').text.strip() if course_div.find('p') else ''\n",
    "            courses.append({\n",
    "                'code': course_code,\n",
    "                'title': course_title,\n",
    "                'description': course_description\n",
    "        })\n",
    "    \n",
    "        return courses  \n",
    "        \n",
    "        \n",
    "        #print(soup.prettify()) \n",
    "        \n",
    "        \n",
    "    except requests.RequestException as e:\n",
    "        print(f\"An error occurred while fetching the URL: {e}\")\n",
    "        return []\n"
   ]
  },
  {
   "cell_type": "code",
   "execution_count": 68,
   "id": "5e8dc5d8-47e6-43d5-820f-3c55aa9cf173",
   "metadata": {},
   "outputs": [],
   "source": [
    "def print_headlines(courses):\n",
    "    if not headlines:\n",
    "        print(\"No headlines to print.\")\n",
    "        return\n",
    "    \n",
    "    print(\"Scraped Headlines:\")\n",
    "    for i, course in enumerate(courses, 1):\n",
    "        print(f\"{i}. {course['code']}: {course['title']}\")\n",
    "    print()"
   ]
  },
  {
   "cell_type": "code",
   "execution_count": 69,
   "id": "d23f092d-840b-43ed-91bf-3a147a1cda5d",
   "metadata": {},
   "outputs": [
    {
     "name": "stdout",
     "output_type": "stream",
     "text": [
      "Status code: 200\n",
      "Content type: text/html; charset=UTF-8\n",
      "Scraped Headlines:\n",
      "1. COM 100: Introduction to Communication: Introduction to Communication\n",
      "2. COM 106: Introduction to Mass Media: Introduction to Mass Media\n",
      "3. COM 120: Fundamentals of Public Speaking: Fundamentals of Public Speaking\n",
      "4. COM 202: Intercultural Communication: Intercultural Communication\n",
      "5. COM 206: Interpersonal Communication: Interpersonal Communication\n",
      "6. COM 207: Media Writing: Media Writing\n",
      "7. COM 208: History of Mass Communication: History of Mass Communication\n",
      "8. COM 305: Mass Communication Law & Ethics: Mass Communication Law & Ethics\n",
      "9. COM 306: Modes of Media Criticism: Modes of Media Criticism\n",
      "10. COM 307: Critical Media Theory: Critical Media Theory\n",
      "11. COM 314: Communication Research: Communication Research\n",
      "12. COM 315: Communication Theory: Communication Theory\n",
      "13. COM 316: Mass Communication Research Methods: Mass Communication Research Methods\n",
      "14. COM 317: Mass Communication Theory: Mass Communication Theory\n",
      "15. COM 346: Race, Class, and Gender in Media: Race, Class, and Gender in Media\n",
      "16. COM 351: Team Collaboration: Team Collaboration\n",
      "17. COM 357: Health Communication: Health Communication\n",
      "18. COM 358: Nonverbal Communication: Nonverbal Communication\n",
      "19. COM 365: Talking Science: Talking Science\n",
      "20. COM 386: Special Topics: Issues in Communication: Special Topics\n",
      "21. COM 399: Special Topics in Mass Communication: Special Topics in Mass Communication\n",
      "22. COM 400: Advanced Communication Research: Advanced Communication Research\n",
      "23. COM 401: Organizational Communication: Organizational Communication\n",
      "24. COM 402: Crisis Communication: Crisis Communication\n",
      "25. COM 403: Strategic Communication: Strategic Communication\n",
      "26. COM 404: Communication for Social Change & Public Advocacy: Communication for Social Change & Public Advocacy\n",
      "27. COM 405: Political Communication: Political Communication\n",
      "28. COM 406: Risk Communication: Risk Communication\n",
      "29. COM 407: Social Media Analytics: Social Media Analytics\n",
      "30. COM 414: Studies in Visual Culture: Studies in Visual Culture\n",
      "31. COM 415: Data Analysis and Storytelling: Data Analysis and Storytelling\n",
      "32. COM 434: Argumentation and Persuasion: Argumentation and Persuasion\n",
      "33. COM 436: Environmental Communication: Environmental Communication\n",
      "34. COM 487: Independent Study: Independent Study\n",
      "35. COM 491: Mass Communication Senior Project: Mass Communication Senior Project\n",
      "36. COM 494: Mass Communication Internship: Mass Communication Internship\n",
      "37. COM 495: Communication Senior Project: Communication Senior Project\n",
      "38. COM 496: Communication Internship: Communication Internship\n",
      "\n",
      "Total lines scraped: 38\n"
     ]
    }
   ],
   "source": [
    "if __name__ == \"__main__\":\n",
    "    headlines = scrape()\n",
    "    print_headlines(headlines)\n",
    "    print(f\"Total lines scraped: {len(headlines)}\")\n",
    "    \n",
    "    "
   ]
  },
  {
   "cell_type": "code",
   "execution_count": 70,
   "id": "6f41ef90-1874-4edf-95fa-58de5a1e5e1e",
   "metadata": {},
   "outputs": [
    {
     "ename": "SyntaxError",
     "evalue": "invalid syntax (3880611687.py, line 1)",
     "output_type": "error",
     "traceback": [
      "\u001b[0;36m  Cell \u001b[0;32mIn[70], line 1\u001b[0;36m\u001b[0m\n\u001b[0;31m    git remote add origin https://github.com/rperwez1/Python-Projects.git\u001b[0m\n\u001b[0m        ^\u001b[0m\n\u001b[0;31mSyntaxError\u001b[0m\u001b[0;31m:\u001b[0m invalid syntax\n"
     ]
    }
   ],
   "source": []
  },
  {
   "cell_type": "code",
   "execution_count": null,
   "id": "e569a018-2f6d-4c75-b0d5-ad9cd8c87b79",
   "metadata": {},
   "outputs": [],
   "source": []
  }
 ],
 "metadata": {
  "kernelspec": {
   "display_name": "Python 3 (ipykernel)",
   "language": "python",
   "name": "python3"
  },
  "language_info": {
   "codemirror_mode": {
    "name": "ipython",
    "version": 3
   },
   "file_extension": ".py",
   "mimetype": "text/x-python",
   "name": "python",
   "nbconvert_exporter": "python",
   "pygments_lexer": "ipython3",
   "version": "3.12.4"
  }
 },
 "nbformat": 4,
 "nbformat_minor": 5
}
